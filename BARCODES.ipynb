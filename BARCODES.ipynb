{
 "cells": [
  {
   "cell_type": "code",
   "execution_count": 1,
   "id": "c5ac5393-fb17-40f6-8f98-9a3425d6c4cc",
   "metadata": {},
   "outputs": [],
   "source": [
    "'''import cv2\n",
    "import numpy as np\n",
    "from pyzbar.pyzbar import decode\n",
    "def decoder(image):\n",
    "    gray_img=cv2.cvtColor(image,0)\n",
    "    barcode = decode (gray_img)\n",
    "    for obj in barcode:\n",
    "        points=obj.polygon\n",
    "        (x,y,w,h)=obj.rect\n",
    "        pts=np.array(points, np.int32)\n",
    "        pts=pts.reshape((-1,1,2))\n",
    "        cv2.polylines(image, [pts], True, (0, 255, 0),3)\n",
    "        barcodeData=obj.data.decode(\"utf-8\")\n",
    "        barcodeType=obj.type\n",
    "        string=\"Data\"+str(barcodeData)+\"|Type\"+str(barcodeType)\n",
    "        cv2.putText(frame,string, (x,y),cv2.FONT_HERSHEY_SIMPLEX,0.8,(255,0,0),2)\n",
    "        print(\"BARCODE: \"+barcodeData+\"|Type:\"+barcodeType)\n",
    "cap=cv2.VideoCapture(0)\n",
    "while True:\n",
    "    ret, frame = cap.read()\n",
    "    decoder(frame)\n",
    "    cv2.imshow('Image',frame)\n",
    "    code=cv2.waitKey(1000)\n",
    "    if code == ord('q'):\n",
    "        break'''\n",
    "#code pythonhub insta"
   ]
  },
  {
   "cell_type": "code",
   "execution_count": 2,
   "id": "9b2ffd09-506d-4bdb-8e06-4b4af8cb2cc4",
   "metadata": {},
   "outputs": [
    {
     "name": "stdout",
     "output_type": "stream",
     "text": [
      "BARCODE: 12067729 | Type: I25\n",
      "BARCODE: 274601 | Type: I25\n",
      "BARCODE: 274601 | Type: I25\n",
      "BARCODE: 475215 | Type: I25\n"
     ]
    }
   ],
   "source": [
    "import cv2\n",
    "import numpy as np\n",
    "from pyzbar.pyzbar import decode\n",
    "\n",
    "def decoder(image):\n",
    "    gray_img = cv2.cvtColor(image, cv2.COLOR_BGR2GRAY)\n",
    "    barcode = decode(gray_img)\n",
    "    \n",
    "    for obj in barcode:\n",
    "        points = obj.polygon\n",
    "        (x, y, w, h) = obj.rect\n",
    "        pts = np.array(points, np.int32)\n",
    "        pts = pts.reshape((-1, 1, 2))\n",
    "        cv2.polylines(image, [pts], True, (0, 255, 0), 3)\n",
    "        \n",
    "        barcodeData = obj.data.decode(\"utf-8\")\n",
    "        barcodeType = obj.type\n",
    "        string = \"Data: \" + str(barcodeData) + \" | Type: \" + str(barcodeType)\n",
    "        cv2.putText(image, string, (x, y - 10), cv2.FONT_HERSHEY_SIMPLEX, 0.8, (255, 0, 0), 2)\n",
    "        print(\"BARCODE: \" + barcodeData + \" | Type: \" + barcodeType)\n",
    "\n",
    "cap = cv2.VideoCapture(0)\n",
    "\n",
    "while True:\n",
    "    ret, frame = cap.read()\n",
    "    decoder(frame)\n",
    "    cv2.imshow('Image', frame)\n",
    "    \n",
    "    code = cv2.waitKey(10)\n",
    "    if code == ord('S'):\n",
    "        break\n",
    "\n",
    "cap.release()\n",
    "cv2.destroyAllWindows()\n"
   ]
  },
  {
   "cell_type": "code",
   "execution_count": null,
   "id": "be9412a1-2271-4ecd-a939-06c35dc2ab67",
   "metadata": {},
   "outputs": [],
   "source": [
    "barcode"
   ]
  }
 ],
 "metadata": {
  "kernelspec": {
   "display_name": "Python 3 (ipykernel)",
   "language": "python",
   "name": "python3"
  },
  "language_info": {
   "codemirror_mode": {
    "name": "ipython",
    "version": 3
   },
   "file_extension": ".py",
   "mimetype": "text/x-python",
   "name": "python",
   "nbconvert_exporter": "python",
   "pygments_lexer": "ipython3",
   "version": "3.11.5"
  }
 },
 "nbformat": 4,
 "nbformat_minor": 5
}
